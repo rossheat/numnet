{
 "cells": [
  {
   "cell_type": "code",
   "execution_count": 18,
   "id": "4addbd98",
   "metadata": {},
   "outputs": [],
   "source": [
    "from numnet import NumNet\n",
    "import pandas as pd"
   ]
  },
  {
   "cell_type": "code",
   "execution_count": 19,
   "id": "134ff3b6",
   "metadata": {},
   "outputs": [
    {
     "data": {
      "text/plain": [
       "array([[1, 0, 0, ..., 0, 0, 0],\n",
       "       [0, 0, 0, ..., 0, 0, 0],\n",
       "       [1, 0, 0, ..., 0, 0, 0],\n",
       "       ...,\n",
       "       [7, 0, 0, ..., 0, 0, 0],\n",
       "       [6, 0, 0, ..., 0, 0, 0],\n",
       "       [9, 0, 0, ..., 0, 0, 0]])"
      ]
     },
     "execution_count": 19,
     "metadata": {},
     "output_type": "execute_result"
    }
   ],
   "source": [
    "arr = pd.read_csv('./data/mnist/train.csv').values\n",
    "arr"
   ]
  },
  {
   "cell_type": "code",
   "execution_count": 20,
   "id": "3ac93774",
   "metadata": {},
   "outputs": [],
   "source": [
    "X, y = arr[:, 1:], arr[:, 0]\n",
    "X = X / 255."
   ]
  },
  {
   "cell_type": "code",
   "execution_count": 25,
   "id": "26652c76",
   "metadata": {},
   "outputs": [
    {
     "name": "stderr",
     "output_type": "stream",
     "text": [
      "100%|██████████| 100/100 [00:05<00:00, 16.85it/s]\n"
     ]
    }
   ],
   "source": [
    "learn = NumNet(in_features=784, hidden_nodes=20, out_classes=10)\n",
    "recorder = learn.fit(X, y, epochs=100, lr=0.5, valid_pct=0.1)"
   ]
  },
  {
   "cell_type": "code",
   "execution_count": 26,
   "id": "e97da76c",
   "metadata": {},
   "outputs": [
    {
     "data": {
      "text/html": [
       "<div>\n",
       "<style scoped>\n",
       "    .dataframe tbody tr th:only-of-type {\n",
       "        vertical-align: middle;\n",
       "    }\n",
       "\n",
       "    .dataframe tbody tr th {\n",
       "        vertical-align: top;\n",
       "    }\n",
       "\n",
       "    .dataframe thead th {\n",
       "        text-align: right;\n",
       "    }\n",
       "</style>\n",
       "<table border=\"1\" class=\"dataframe\">\n",
       "  <thead>\n",
       "    <tr style=\"text-align: right;\">\n",
       "      <th></th>\n",
       "      <th>epoch</th>\n",
       "      <th>train_loss</th>\n",
       "      <th>valid_loss</th>\n",
       "      <th>valid_acc</th>\n",
       "    </tr>\n",
       "  </thead>\n",
       "  <tbody>\n",
       "    <tr>\n",
       "      <th>95</th>\n",
       "      <td>95.0</td>\n",
       "      <td>0.044772</td>\n",
       "      <td>0.043797</td>\n",
       "      <td>0.862381</td>\n",
       "    </tr>\n",
       "    <tr>\n",
       "      <th>96</th>\n",
       "      <td>96.0</td>\n",
       "      <td>0.045275</td>\n",
       "      <td>0.042863</td>\n",
       "      <td>0.864286</td>\n",
       "    </tr>\n",
       "    <tr>\n",
       "      <th>97</th>\n",
       "      <td>97.0</td>\n",
       "      <td>0.044492</td>\n",
       "      <td>0.043716</td>\n",
       "      <td>0.861667</td>\n",
       "    </tr>\n",
       "    <tr>\n",
       "      <th>98</th>\n",
       "      <td>98.0</td>\n",
       "      <td>0.045164</td>\n",
       "      <td>0.042789</td>\n",
       "      <td>0.863571</td>\n",
       "    </tr>\n",
       "    <tr>\n",
       "      <th>99</th>\n",
       "      <td>99.0</td>\n",
       "      <td>0.044433</td>\n",
       "      <td>0.043896</td>\n",
       "      <td>0.857857</td>\n",
       "    </tr>\n",
       "  </tbody>\n",
       "</table>\n",
       "</div>"
      ],
      "text/plain": [
       "    epoch  train_loss  valid_loss  valid_acc\n",
       "95   95.0    0.044772    0.043797   0.862381\n",
       "96   96.0    0.045275    0.042863   0.864286\n",
       "97   97.0    0.044492    0.043716   0.861667\n",
       "98   98.0    0.045164    0.042789   0.863571\n",
       "99   99.0    0.044433    0.043896   0.857857"
      ]
     },
     "execution_count": 26,
     "metadata": {},
     "output_type": "execute_result"
    }
   ],
   "source": [
    "recorder.tail()"
   ]
  },
  {
   "cell_type": "code",
   "execution_count": 27,
   "id": "3a31ad08",
   "metadata": {},
   "outputs": [
    {
     "data": {
      "text/plain": [
       "<AxesSubplot:title={'center':'Loss vs Epoch'}, xlabel='Epoch', ylabel='Loss'>"
      ]
     },
     "execution_count": 27,
     "metadata": {},
     "output_type": "execute_result"
    },
    {
     "data": {
      "image/png": "[encoded data removed]",
      "text/plain": [
       "<Figure size 432x288 with 1 Axes>"
      ]
     },
     "metadata": {
      "needs_background": "light"
     },
     "output_type": "display_data"
    }
   ],
   "source": [
    "recorder.plot_loss()"
   ]
  },
  {
   "cell_type": "code",
   "execution_count": 28,
   "id": "92da288e",
   "metadata": {},
   "outputs": [
    {
     "data": {
      "text/plain": [
       "0.8506666666666667"
      ]
     },
     "execution_count": 28,
     "metadata": {},
     "output_type": "execute_result"
    }
   ],
   "source": [
    "learn.test(X_test, y_test)"
   ]
  },
  {
   "cell_type": "code",
   "execution_count": 31,
   "id": "d1dcdadf",
   "metadata": {},
   "outputs": [
    {
     "data": {
      "text/plain": [
       "array([1, 0, 1, 2, 0, 0, 7, 3, 5, 3])"
      ]
     },
     "execution_count": 31,
     "metadata": {},
     "output_type": "execute_result"
    }
   ],
   "source": [
    "learn.predict(X_test[:10])"
   ]
  },
  {
   "cell_type": "code",
   "execution_count": 29,
   "id": "4a039f46",
   "metadata": {},
   "outputs": [
    {
     "data": {
      "text/plain": [
       "{'W1': array([[-0.46716858,  0.06240788, -0.08548036, ...,  0.28742903,\n",
       "         -0.22566914, -0.38791879],\n",
       "        [ 0.32265953, -0.02042959,  0.41463747, ..., -0.15038303,\n",
       "         -0.45828517, -0.34861635],\n",
       "        [-0.07427482, -0.39723314, -0.05734396, ..., -0.47147347,\n",
       "         -0.00128758,  0.10236472],\n",
       "        ...,\n",
       "        [-0.45176641,  0.07389715, -0.19099949, ..., -0.13157091,\n",
       "          0.12941138, -0.22890693],\n",
       "        [ 0.18398029, -0.21832902, -0.38980298, ..., -0.10689772,\n",
       "         -0.20928851, -0.06815705],\n",
       "        [-0.39304405,  0.27244481, -0.43744371, ..., -0.08109331,\n",
       "         -0.00546791, -0.12126228]]),\n",
       " 'b1': array([-0.2266186 ,  0.0490968 ,  0.40784128, -0.15258083, -0.19358871,\n",
       "        -0.33102596,  0.29972153,  0.49842305,  0.56162833,  0.17340759,\n",
       "         0.59624544,  0.15076479, -0.04911964,  0.12977509,  0.5032052 ,\n",
       "        -0.08898781, -0.2248928 ,  0.1407735 ,  0.35877037,  0.63538142]),\n",
       " 'W2': array([[-0.05687427,  0.73603148,  0.63606732, -0.03704768, -0.1340824 ,\n",
       "         -0.17470424, -0.30363872,  0.36058468,  0.06222057,  0.03254106,\n",
       "          0.04762495, -0.02633282, -0.39694703,  0.2747285 , -0.45780806,\n",
       "          0.15219108, -0.90834409,  0.11379219, -0.20485215, -0.29467964],\n",
       "        [ 0.31532921, -0.44170661, -0.46382491,  0.10309467, -0.36169277,\n",
       "         -0.03129223, -0.28096328,  0.42983604, -0.262246  , -0.02537575,\n",
       "         -0.19196252, -0.06704701,  0.25702523,  0.32787232,  0.44371135,\n",
       "         -0.32955931,  0.68139078, -0.27324424,  0.28114452, -0.64087574],\n",
       "        [-0.30268258, -0.44347215,  0.58557583,  0.42006351,  0.15280628,\n",
       "          0.12343732,  0.39779057,  0.14035888,  0.4697894 , -0.02588865,\n",
       "         -0.32661639, -0.11768749,  0.17826397,  0.30791163, -0.42900763,\n",
       "         -0.3425775 ,  0.06189162, -0.09846162, -0.13087311, -0.35972355],\n",
       "        [ 0.58108397, -0.22586584,  0.49585434, -0.00362972, -0.45359437,\n",
       "         -0.38204059, -0.47959187, -0.0080961 , -0.05422856, -0.2712706 ,\n",
       "         -0.10483086, -0.12295822,  0.28585382, -0.39027687, -0.20573018,\n",
       "         -0.25496103,  0.08908037, -0.14899711,  0.1159564 ,  0.3848581 ],\n",
       "        [ 0.13259118, -0.37551271, -0.54729374,  0.31834726,  0.78578897,\n",
       "         -0.04448306,  0.3219974 ,  0.18725564, -0.2202616 ,  0.308281  ,\n",
       "          0.43004862, -0.11544424, -0.26969383, -0.12182541,  0.26223501,\n",
       "          0.26647987, -0.48958859, -0.20286387, -0.26213187,  0.31348407],\n",
       "        [-0.44568045,  0.39782665,  0.28959865, -0.36762035, -0.43724551,\n",
       "         -0.37936861,  0.20831823,  0.40041795, -0.4696859 ,  0.27877203,\n",
       "          0.40372353, -0.47358385,  0.32334891,  0.32116394,  0.08926753,\n",
       "          0.25313393, -0.35137189, -0.27937039,  0.20693678,  0.36317813],\n",
       "        [-0.41273617, -0.12667131,  0.47187461,  0.24476255,  0.66775592,\n",
       "          0.33105372, -0.23168484,  0.51376706, -0.00883089,  0.25357814,\n",
       "          0.2029972 ,  0.40308193, -0.06734282, -0.34565379,  0.35589314,\n",
       "          0.41019676, -0.47671375, -0.38884283,  0.01348069, -0.73680985],\n",
       "        [ 0.50688264,  0.47760096, -0.5596128 , -0.1526847 ,  0.33168636,\n",
       "          0.18930923, -0.41850136,  0.17279996,  0.15102005, -0.62453983,\n",
       "          0.21922672,  0.21415743, -0.34870013, -0.22975397, -0.28417432,\n",
       "         -0.06878436,  0.29355369,  0.62912667,  0.37213985, -0.06364468],\n",
       "        [-0.21718382,  0.09976661,  0.11112763, -0.00784156, -0.58996521,\n",
       "          0.03132307, -0.12911815, -0.51642592,  0.15142548,  0.84564528,\n",
       "         -0.10797944, -0.19705774,  0.08472923, -0.13944253,  0.07969773,\n",
       "         -0.02810958,  0.1036188 , -0.25670534,  0.1488742 ,  0.141467  ],\n",
       "        [ 0.11851725,  0.13204947, -0.61674817, -0.00704516,  0.27459076,\n",
       "          0.43502944,  0.31169981, -0.27551507,  0.12905551,  0.23468554,\n",
       "          0.06000268,  0.11152242, -0.31104676,  0.01630758, -0.15508963,\n",
       "         -0.27555572,  0.03081414,  0.07955892,  0.08164101,  0.54874403]]),\n",
       " 'b2': array([-0.2019152 , -0.09183007,  0.48417174,  0.46409393, -0.32122813,\n",
       "        -0.06503578, -0.37106163,  0.04130131, -0.43529379, -0.10563634])}"
      ]
     },
     "execution_count": 29,
     "metadata": {},
     "output_type": "execute_result"
    }
   ],
   "source": [
    "learn.parameters()"
   ]
  }
 ],
 "metadata": {
  "kernelspec": {
   "display_name": "purenn",
   "language": "python",
   "name": "purenn"
  },
  "language_info": {
   "codemirror_mode": {
    "name": "ipython",
    "version": 3
   },
   "file_extension": ".py",
   "mimetype": "text/x-python",
   "name": "python",
   "nbconvert_exporter": "python",
   "pygments_lexer": "ipython3",
   "version": "3.7.11"
  }
 },
 "nbformat": 4,
 "nbformat_minor": 5
}
